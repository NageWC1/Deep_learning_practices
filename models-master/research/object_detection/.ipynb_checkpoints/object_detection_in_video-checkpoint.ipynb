{
 "cells": [
  {
   "cell_type": "markdown",
   "id": "0460c2a2",
   "metadata": {},
   "source": [
    "# Imports "
   ]
  },
  {
   "cell_type": "code",
   "execution_count": 2,
   "id": "419600ab",
   "metadata": {},
   "outputs": [
    {
     "ename": "SyntaxError",
     "evalue": "invalid syntax (Temp/ipykernel_12968/3460361142.py, line 11)",
     "output_type": "error",
     "traceback": [
      "\u001b[1;36m  File \u001b[1;32m\"C:\\Users\\pc\\AppData\\Local\\Temp/ipykernel_12968/3460361142.py\"\u001b[1;36m, line \u001b[1;32m11\u001b[0m\n\u001b[1;33m    pip install imageio-ffmpeg\u001b[0m\n\u001b[1;37m        ^\u001b[0m\n\u001b[1;31mSyntaxError\u001b[0m\u001b[1;31m:\u001b[0m invalid syntax\n"
     ]
    }
   ],
   "source": [
    "import numpy as np\n",
    "import os\n",
    "import sys\n",
    "import six.moves.urllib as urllib\n",
    "import sys\n",
    "import tarfile\n",
    "import tensorflow as tf \n",
    "import zipfile \n",
    "import imageio\n",
    "# imageio.plugins.ffmpeg.download()\n",
    "\n",
    "# Import datetime\n",
    "from datetime import datetime\n",
    "from collections import defaultdict \n",
    "from maptplotlib import pyplot as plt \n",
    "from io import StringIO\n",
    "from PIL import image \n",
    "\n",
    "\n",
    "# This is needed since the notebook is stored in the object detection folder \n",
    "sys.path.append(\"..\")\n",
    "from object_detection_util import ops as utils_ops\n",
    "\n",
    "if tf.__version__< '1.4.0':\n",
    "    raise ImportError('Olease upgrade your tensorflow installation to 1.4.0 or later!')\n",
    "    "
   ]
  },
  {
   "cell_type": "code",
   "execution_count": null,
   "id": "4096124e",
   "metadata": {},
   "outputs": [],
   "source": []
  },
  {
   "cell_type": "code",
   "execution_count": null,
   "id": "bbe03b67",
   "metadata": {},
   "outputs": [],
   "source": []
  }
 ],
 "metadata": {
  "kernelspec": {
   "display_name": "Python 3 (ipykernel)",
   "language": "python",
   "name": "python3"
  },
  "language_info": {
   "codemirror_mode": {
    "name": "ipython",
    "version": 3
   },
   "file_extension": ".py",
   "mimetype": "text/x-python",
   "name": "python",
   "nbconvert_exporter": "python",
   "pygments_lexer": "ipython3",
   "version": "3.8.11"
  }
 },
 "nbformat": 4,
 "nbformat_minor": 5
}
