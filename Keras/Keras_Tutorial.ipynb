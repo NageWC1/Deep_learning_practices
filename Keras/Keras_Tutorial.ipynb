{
 "cells": [
  {
   "cell_type": "code",
   "execution_count": 14,
   "id": "1dd5a5a3",
   "metadata": {},
   "outputs": [],
   "source": [
    "import numpy as np \n",
    "from random import randint # generate random integer  \n",
    "from sklearn.utils import shuffle \n",
    "from sklearn.preprocessing import MinMaxScaler "
   ]
  },
  {
   "cell_type": "code",
   "execution_count": 15,
   "id": "2d581b8d",
   "metadata": {},
   "outputs": [],
   "source": [
    "train_labels = []\n",
    "train_samples = []"
   ]
  },
  {
   "cell_type": "markdown",
   "id": "34c25591",
   "metadata": {},
   "source": [
    "Example Data \n",
    "\n",
    "Expperimental drug was tested on 2100 individuals between 13 to 100 years of\n",
    "age\n",
    "Half the participants are under 65\n",
    "around 95% of participants under 65 experienced no side effects \n",
    "95% of participants over 65 experienced side effects"
   ]
  },
  {
   "cell_type": "code",
   "execution_count": 16,
   "id": "a330069a",
   "metadata": {},
   "outputs": [],
   "source": [
    "for i in range(50):\n",
    "    # The 5% of younger individuals who did experience side effects \n",
    "    random_younger = randint(13,64)\n",
    "    train_samples.append(random_younger)\n",
    "    train_labels.append(1)\n",
    "    \n",
    "    # The 5% of older individuals who did not experience side effects \n",
    "    random_older = randint(65, 100)\n",
    "    train_samples.append(random_older)\n",
    "    train_labels.append(0)\n",
    "    \n",
    "for i in range(1000):\n",
    "    # The 95% of younger individuals who did not experience side effect\n",
    "    random_younger = randint(13,64)\n",
    "    train_samples.append(random_younger)\n",
    "    train_labels.append(0)\n",
    "    \n",
    "    # The 95% of older individuals who did experience side effects \n",
    "    random_older = randint(65, 100)\n",
    "    train_samples.append(random_older)\n",
    "    train_labels.append(1)\n",
    "    \n",
    "    \n",
    "    "
   ]
  },
  {
   "cell_type": "code",
   "execution_count": 17,
   "id": "24007834",
   "metadata": {},
   "outputs": [
    {
     "name": "stdout",
     "output_type": "stream",
     "text": [
      "2100 [15, 74, 61, 87, 57]\n",
      "2100 [1, 0, 1, 0, 1]\n"
     ]
    }
   ],
   "source": [
    "print(len(train_samples),train_samples[:5])\n",
    "print(len(train_labels),train_labels[:5])"
   ]
  },
  {
   "cell_type": "code",
   "execution_count": 18,
   "id": "b16a98fb",
   "metadata": {},
   "outputs": [],
   "source": [
    "train_labels = np.array(train_labels)\n",
    "train_samples = np.array(train_samples)\n",
    "train_labels, train_samples = shuffle(train_labels, train_samples)"
   ]
  },
  {
   "cell_type": "code",
   "execution_count": 22,
   "id": "00d0e318",
   "metadata": {},
   "outputs": [
    {
     "data": {
      "text/plain": [
       "array([[0.67816092],\n",
       "       [0.77011494],\n",
       "       [0.5862069 ],\n",
       "       [0.66666667],\n",
       "       [0.04597701]])"
      ]
     },
     "execution_count": 22,
     "metadata": {},
     "output_type": "execute_result"
    }
   ],
   "source": [
    "# scalling the feature into standard values \n",
    "scaler = MinMaxScaler(feature_range=(0,1))\n",
    "scaled_train_samples = scaler.fit_transform(train_samples.reshape(-1,1))\n",
    "scaled_train_samples[:5]"
   ]
  },
  {
   "cell_type": "markdown",
   "id": "22f4de04",
   "metadata": {},
   "source": [
    "### Create Artificial Neural Network "
   ]
  },
  {
   "cell_type": "code",
   "execution_count": 27,
   "id": "836c24cb",
   "metadata": {},
   "outputs": [],
   "source": [
    "import tensorflow as tf \n",
    "from tensorflow import keras \n",
    "from tensorflow.keras.models import Sequential # it goes one layer to next layer to the next layer - like sequnce manner\n",
    "from tensorflow.keras.layers import Activation, Dense\n",
    "from tensorflow.keras.optimizers import Adam # Adam usually assigned for huge data \n",
    "from tensorflow.keras.metrics import categorical_crossentropy"
   ]
  },
  {
   "cell_type": "code",
   "execution_count": 29,
   "id": "6c788a1d",
   "metadata": {},
   "outputs": [],
   "source": [
    "model = Sequential([ # we one layer to next\n",
    "    Dense(units=16, input_shape=(1,), activation='relu'),\n",
    "    Dense(units=32, activation='relu'),\n",
    "    Denseh\n",
    "    (units=2, activation='softmax')\n",
    "])"
   ]
  },
  {
   "cell_type": "markdown",
   "id": "0f68c525",
   "metadata": {},
   "source": [
    "### NOTE \n",
    "Find out how what is <br>\n",
    "    - activation function <br>\n",
    "    - why we using it<br>\n",
    "    - different types of activation function <br>\n",
    "    - mathematics behind is \n",
    "    "
   ]
  },
  {
   "cell_type": "code",
   "execution_count": 30,
   "id": "0d938ebb",
   "metadata": {},
   "outputs": [
    {
     "name": "stdout",
     "output_type": "stream",
     "text": [
      "Model: \"sequential\"\n",
      "_________________________________________________________________\n",
      "Layer (type)                 Output Shape              Param #   \n",
      "=================================================================\n",
      "dense (Dense)                (None, 16)                32        \n",
      "_________________________________________________________________\n",
      "dense_1 (Dense)              (None, 32)                544       \n",
      "_________________________________________________________________\n",
      "dense_2 (Dense)              (None, 2)                 66        \n",
      "=================================================================\n",
      "Total params: 642\n",
      "Trainable params: 642\n",
      "Non-trainable params: 0\n",
      "_________________________________________________________________\n"
     ]
    }
   ],
   "source": [
    "model.summary()"
   ]
  },
  {
   "cell_type": "markdown",
   "id": "4fd24ae5",
   "metadata": {},
   "source": [
    "## Train the Model"
   ]
  },
  {
   "cell_type": "code",
   "execution_count": 31,
   "id": "f81be132",
   "metadata": {},
   "outputs": [],
   "source": [
    "model.compile(optimizer=Adam(learning_rate=0.0001), loss='sparse_categorical_crossentropy', metrics=['accuracy'])"
   ]
  },
  {
   "cell_type": "code",
   "execution_count": 34,
   "id": "17f752c8",
   "metadata": {},
   "outputs": [
    {
     "name": "stdout",
     "output_type": "stream",
     "text": [
      "Epoch 1/30\n",
      "189/189 - 0s - loss: 0.3656 - accuracy: 0.8984 - val_loss: 0.3560 - val_accuracy: 0.8905\n",
      "Epoch 2/30\n",
      "189/189 - 0s - loss: 0.3495 - accuracy: 0.9021 - val_loss: 0.3411 - val_accuracy: 0.8905\n",
      "Epoch 3/30\n",
      "189/189 - 0s - loss: 0.3354 - accuracy: 0.9085 - val_loss: 0.3285 - val_accuracy: 0.9048\n",
      "Epoch 4/30\n",
      "189/189 - 0s - loss: 0.3237 - accuracy: 0.9138 - val_loss: 0.3180 - val_accuracy: 0.9048\n",
      "Epoch 5/30\n",
      "189/189 - 0s - loss: 0.3138 - accuracy: 0.9175 - val_loss: 0.3093 - val_accuracy: 0.9190\n",
      "Epoch 6/30\n",
      "189/189 - 0s - loss: 0.3054 - accuracy: 0.9222 - val_loss: 0.3015 - val_accuracy: 0.9190\n",
      "Epoch 7/30\n",
      "189/189 - 0s - loss: 0.2985 - accuracy: 0.9212 - val_loss: 0.2953 - val_accuracy: 0.9190\n",
      "Epoch 8/30\n",
      "189/189 - 0s - loss: 0.2927 - accuracy: 0.9275 - val_loss: 0.2899 - val_accuracy: 0.9286\n",
      "Epoch 9/30\n",
      "189/189 - 0s - loss: 0.2877 - accuracy: 0.9312 - val_loss: 0.2857 - val_accuracy: 0.9286\n",
      "Epoch 10/30\n",
      "189/189 - 0s - loss: 0.2835 - accuracy: 0.9312 - val_loss: 0.2824 - val_accuracy: 0.9286\n",
      "Epoch 11/30\n",
      "189/189 - 0s - loss: 0.2797 - accuracy: 0.9323 - val_loss: 0.2800 - val_accuracy: 0.9286\n",
      "Epoch 12/30\n",
      "189/189 - 0s - loss: 0.2767 - accuracy: 0.9302 - val_loss: 0.2765 - val_accuracy: 0.9286\n",
      "Epoch 13/30\n",
      "189/189 - 0s - loss: 0.2740 - accuracy: 0.9312 - val_loss: 0.2736 - val_accuracy: 0.9286\n",
      "Epoch 14/30\n",
      "189/189 - 0s - loss: 0.2713 - accuracy: 0.9339 - val_loss: 0.2723 - val_accuracy: 0.9286\n",
      "Epoch 15/30\n",
      "189/189 - 0s - loss: 0.2694 - accuracy: 0.9328 - val_loss: 0.2695 - val_accuracy: 0.9381\n",
      "Epoch 16/30\n",
      "189/189 - 0s - loss: 0.2674 - accuracy: 0.9328 - val_loss: 0.2680 - val_accuracy: 0.9381\n",
      "Epoch 17/30\n",
      "189/189 - 0s - loss: 0.2656 - accuracy: 0.9328 - val_loss: 0.2664 - val_accuracy: 0.9381\n",
      "Epoch 18/30\n",
      "189/189 - 0s - loss: 0.2641 - accuracy: 0.9397 - val_loss: 0.2654 - val_accuracy: 0.9381\n",
      "Epoch 19/30\n",
      "189/189 - 0s - loss: 0.2627 - accuracy: 0.9381 - val_loss: 0.2640 - val_accuracy: 0.9381\n",
      "Epoch 20/30\n",
      "189/189 - 0s - loss: 0.2615 - accuracy: 0.9381 - val_loss: 0.2628 - val_accuracy: 0.9381\n",
      "Epoch 21/30\n",
      "189/189 - 0s - loss: 0.2604 - accuracy: 0.9402 - val_loss: 0.2625 - val_accuracy: 0.9381\n",
      "Epoch 22/30\n",
      "189/189 - 0s - loss: 0.2593 - accuracy: 0.9365 - val_loss: 0.2611 - val_accuracy: 0.9381\n",
      "Epoch 23/30\n",
      "189/189 - 0s - loss: 0.2584 - accuracy: 0.9418 - val_loss: 0.2602 - val_accuracy: 0.9381\n",
      "Epoch 24/30\n",
      "189/189 - 0s - loss: 0.2573 - accuracy: 0.9418 - val_loss: 0.2611 - val_accuracy: 0.9286\n",
      "Epoch 25/30\n",
      "189/189 - 0s - loss: 0.2572 - accuracy: 0.9333 - val_loss: 0.2601 - val_accuracy: 0.9286\n",
      "Epoch 26/30\n",
      "189/189 - 0s - loss: 0.2560 - accuracy: 0.9402 - val_loss: 0.2586 - val_accuracy: 0.9381\n",
      "Epoch 27/30\n",
      "189/189 - 0s - loss: 0.2553 - accuracy: 0.9418 - val_loss: 0.2580 - val_accuracy: 0.9381\n",
      "Epoch 28/30\n",
      "189/189 - 0s - loss: 0.2545 - accuracy: 0.9413 - val_loss: 0.2587 - val_accuracy: 0.9286\n",
      "Epoch 29/30\n",
      "189/189 - 0s - loss: 0.2541 - accuracy: 0.9365 - val_loss: 0.2563 - val_accuracy: 0.9381\n",
      "Epoch 30/30\n",
      "189/189 - 0s - loss: 0.2535 - accuracy: 0.9418 - val_loss: 0.2556 - val_accuracy: 0.9381\n"
     ]
    },
    {
     "data": {
      "text/plain": [
       "<keras.callbacks.History at 0x21a29b29640>"
      ]
     },
     "execution_count": 34,
     "metadata": {},
     "output_type": "execute_result"
    }
   ],
   "source": [
    "model.fit(x=scaled_train_samples, y=train_labels, validation_split=0.1, batch_size=10, shuffle=True, epochs=30, verbose=2)"
   ]
  },
  {
   "cell_type": "markdown",
   "id": "0868aed5",
   "metadata": {},
   "source": [
    "#### Building a test set and predicting"
   ]
  },
  {
   "cell_type": "code",
   "execution_count": 35,
   "id": "22756a6f",
   "metadata": {},
   "outputs": [],
   "source": [
    "test_labels = []\n",
    "test_samples = []"
   ]
  },
  {
   "cell_type": "code",
   "execution_count": 38,
   "id": "2e7978f6",
   "metadata": {},
   "outputs": [],
   "source": [
    "# Preparing data\n",
    "for i in range(50):\n",
    "    # The 5% of younger individuals who did experience side effects \n",
    "    random_younger = randint(13,64)\n",
    "    test_samples.append(random_younger)\n",
    "    test_labels.append(1)\n",
    "    \n",
    "    # The 5% of older individuals who did not experience side effects \n",
    "    random_older = randint(65, 100)\n",
    "    test_samples.append(random_older)\n",
    "    test_labels.append(0)\n",
    "    \n",
    "for i in range(1000):\n",
    "    # The 95% of younger individuals who did not experience side effect\n",
    "    random_younger = randint(13,64)\n",
    "    test_samples.append(random_younger)\n",
    "    test_labels.append(0)\n",
    "    \n",
    "    # The 95% of older individuals who did experience side effects \n",
    "    random_older = randint(65, 100)\n",
    "    test_samples.append(random_older)\n",
    "    test_labels.append(1)\n",
    "    \n",
    "    \n",
    "    \n",
    "test_labels = np.array(test_labels)\n",
    "test_samples = np.array(test_samples)\n",
    "test_labels, test_samples = shuffle(test_labels, test_samples)\n",
    "\n",
    "# scalling the feature into standard values \n",
    "scaled_test_samples = scaler.transform(test_samples.reshape(-1,1))\n"
   ]
  },
  {
   "cell_type": "code",
   "execution_count": 40,
   "id": "45824606",
   "metadata": {},
   "outputs": [],
   "source": [
    "predictions = model.predict(\n",
    "    x=scaled_test_samples,\n",
    "    batch_size=10,\n",
    "    verbose=0\n",
    ")"
   ]
  },
  {
   "cell_type": "code",
   "execution_count": 41,
   "id": "eee501e7",
   "metadata": {},
   "outputs": [
    {
     "data": {
      "text/plain": [
       "array([1, 1, 1, 1, 0], dtype=int64)"
      ]
     },
     "execution_count": 41,
     "metadata": {},
     "output_type": "execute_result"
    }
   ],
   "source": [
    "# rounding predictions to get 0 or 1\n",
    "rounded_predictions = np.argmax(predictions, axis=-1)\n",
    "rounded_predictions[:5]"
   ]
  },
  {
   "cell_type": "markdown",
   "id": "c0284b91",
   "metadata": {},
   "source": [
    "<h2> Confusion Matrices for accuracy check <h2>"
   ]
  },
  {
   "cell_type": "code",
   "execution_count": 43,
   "id": "02f83865",
   "metadata": {},
   "outputs": [],
   "source": [
    "from sklearn.metrics import confusion_matrix\n",
    "import itertools\n",
    "import matplotlib.pyplot as plt"
   ]
  },
  {
   "cell_type": "code",
   "execution_count": 44,
   "id": "6c4103ad",
   "metadata": {},
   "outputs": [],
   "source": [
    "cm = confusion_matrix(y_true=test_labels, y_pred=rounded_predictions)"
   ]
  },
  {
   "cell_type": "code",
   "execution_count": 49,
   "id": "23e76f76",
   "metadata": {},
   "outputs": [],
   "source": [
    "def plot_confusion_matrix(cm, classes,\n",
    "                         normalize=False,\n",
    "                         title='Confusion matrix',\n",
    "                         cmap=plt.cm.Blues):\n",
    "    \"\"\"\n",
    "    This funciton prints and plots the confusion matrix\n",
    "    Normalization can be applied by setting `normalize=True`\n",
    "    \"\"\"\n",
    "    \n",
    "    plt.imshow(cm,interpolation='nearest', cmap=cmap)\n",
    "    plt.title(title)\n",
    "    plt.colorbar()\n",
    "    tick_marks = np.arange(len(classes))\n",
    "    plt.xticks(tick_marks, classes, rotation=45)\n",
    "    plt.yticks(tick_marks, classes)\n",
    "    \n",
    "    if normalize:\n",
    "        cm = cm.astype('float') / cm.sum(axis=1)[:, np.newaxis]\n",
    "        print(\"Normalized confusion matrix\")\n",
    "    else:\n",
    "        print(\"Confusion matrix, without normalization\")\n",
    "        \n",
    "    print(cm)\n",
    "    \n",
    "    thresh = cm.max() / 2.\n",
    "    \n",
    "    for i, j in itertools.product(range(cm.shape[0]),range(cm.shape[1])):\n",
    "        plt.text(j,i, cm[i,j],\n",
    "                horizontalalignment=\"center\",\n",
    "                color=\"white\" if cm[i, j] > thresh else \"black\")\n",
    "        \n",
    "        plt.tight_layout()\n",
    "        plt.ylabel('True label')\n",
    "        plt.xlabel('Predicted label')"
   ]
  },
  {
   "cell_type": "code",
   "execution_count": 50,
   "id": "907c98f1",
   "metadata": {},
   "outputs": [],
   "source": [
    "cm_plot_labels = ['no_side_effects', 'had side effects']"
   ]
  },
  {
   "cell_type": "code",
   "execution_count": 51,
   "id": "14796b4e",
   "metadata": {},
   "outputs": [
    {
     "name": "stdout",
     "output_type": "stream",
     "text": [
      "Confusion matrix, without normalization\n",
      "[[1968  132]\n",
      " [  98 2002]]\n"
     ]
    },
    {
     "data": {
      "image/png": "[encoded data removed]",
      "text/plain": [
       "<Figure size 432x288 with 2 Axes>"
      ]
     },
     "metadata": {
      "needs_background": "light"
     },
     "output_type": "display_data"
    }
   ],
   "source": [
    "plot_confusion_matrix(cm=cm, classes=cm_plot_labels, title='Confusion matrix')"
   ]
  },
  {
   "cell_type": "code",
   "execution_count": null,
   "id": "b08c7dbc",
   "metadata": {},
   "outputs": [],
   "source": []
  },
  {
   "cell_type": "code",
   "execution_count": null,
   "id": "10c59a18",
   "metadata": {},
   "outputs": [],
   "source": []
  },
  {
   "cell_type": "code",
   "execution_count": null,
   "id": "6da7a160",
   "metadata": {},
   "outputs": [],
   "source": []
  }
 ],
 "metadata": {
  "kernelspec": {
   "display_name": "Python 3 (ipykernel)",
   "language": "python",
   "name": "python3"
  },
  "language_info": {
   "codemirror_mode": {
    "name": "ipython",
    "version": 3
   },
   "file_extension": ".py",
   "mimetype": "text/x-python",
   "name": "python",
   "nbconvert_exporter": "python",
   "pygments_lexer": "ipython3",
   "version": "3.8.11"
  }
 },
 "nbformat": 4,
 "nbformat_minor": 5
}
