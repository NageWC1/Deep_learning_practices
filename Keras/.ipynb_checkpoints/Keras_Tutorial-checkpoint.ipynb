{
 "cells": [
  {
   "cell_type": "code",
   "execution_count": 2,
   "id": "9f3fc24e",
   "metadata": {},
   "outputs": [],
   "source": [
    "import numpy as np \n",
    "from random import randint # generate random integer  \n",
    "from sklearn.utils import shuffle \n",
    "from sklearn.preprocessing import MinMaxScaler "
   ]
  },
  {
   "cell_type": "code",
   "execution_count": 3,
   "id": "2b1c3fe6",
   "metadata": {},
   "outputs": [],
   "source": [
    "tain_labels = []\n",
    "train_samples = []"
   ]
  },
  {
   "cell_type": "markdown",
   "id": "6ab318a3",
   "metadata": {},
   "source": [
    "Example Data \n",
    "\n",
    "Expperimental drug was tested on 2100 individuals between 13 to 100 years of\n",
    "age\n",
    "Half the participants are under 65\n",
    "around 95% of participants under 65 experienced no side effects \n",
    "95% of participants over 65 experienced side effects"
   ]
  },
  {
   "cell_type": "code",
   "execution_count": null,
   "id": "2c7d3dbe",
   "metadata": {},
   "outputs": [],
   "source": [
    "for i in range(50):\n",
    "    # The 5% of younger individuals who did experience side effects \n",
    "    random_younger = randint(13,64)\n",
    "    train_samples.append(random_younger)\n",
    "    train_labels.append(1)\n",
    "    \n",
    "    # The 5% of older individuals who did not experience side effects \n",
    "    random_older = randint(65, 100)\n",
    "    train_samples.append(random_older)\n",
    "    train_labels.append(o)\n",
    "    \n",
    "for i in range(1000):\n",
    "    # The 95% of younger individuals who did not experience side effect\n",
    "    random_younger = randint(13,64)\n",
    "    train_samples.append(random_younger)\n",
    "    train_labels.append(0)\n",
    "    \n",
    "    # The 95% of older individuals who did experience side effects \n",
    "    random_older = randint(65, 100)\n",
    "    train_samples.append(random_older)\n",
    "    train_labels.append(1)\n",
    "    \n",
    "    \n",
    "    "
   ]
  }
 ],
 "metadata": {
  "kernelspec": {
   "display_name": "Python 3 (ipykernel)",
   "language": "python",
   "name": "python3"
  },
  "language_info": {
   "codemirror_mode": {
    "name": "ipython",
    "version": 3
   },
   "file_extension": ".py",
   "mimetype": "text/x-python",
   "name": "python",
   "nbconvert_exporter": "python",
   "pygments_lexer": "ipython3",
   "version": "3.8.11"
  }
 },
 "nbformat": 4,
 "nbformat_minor": 5
}
